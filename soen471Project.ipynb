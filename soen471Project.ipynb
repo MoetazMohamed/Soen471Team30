{
 "cells": [
  {
   "cell_type": "code",
   "execution_count": 2,
   "metadata": {
    "collapsed": true
   },
   "outputs": [
    {
     "name": "stdout",
     "output_type": "stream",
     "text": [
      "3ezpo\n"
     ]
    }
   ],
   "source": []
  },
  {
   "cell_type": "code",
   "execution_count": 19,
   "outputs": [],
   "source": [
    "import csv\n",
    "import pandas"
   ],
   "metadata": {
    "collapsed": false
   }
  },
  {
   "cell_type": "markdown",
   "source": [],
   "metadata": {
    "collapsed": false
   }
  },
  {
   "cell_type": "markdown",
   "source": [],
   "metadata": {
    "collapsed": false
   }
  },
  {
   "cell_type": "markdown",
   "source": [],
   "metadata": {
    "collapsed": false
   }
  },
  {
   "cell_type": "markdown",
   "source": [
    "Dataset"
   ],
   "metadata": {
    "collapsed": false
   }
  },
  {
   "cell_type": "code",
   "execution_count": 33,
   "outputs": [
    {
     "name": "stdout",
     "output_type": "stream",
     "text": [
      "         appid                        name  price release_date  required_age  \\\n",
      "0           10              Counter-Strike   7.19   2000-11-01             0   \n",
      "1           20       Team Fortress Classic   3.99   1999-04-01             0   \n",
      "2           30               Day of Defeat   3.99   2003-05-01             0   \n",
      "3           40          Deathmatch Classic   3.99   2001-06-01             0   \n",
      "4           50   Half-Life: Opposing Force   3.99   1999-11-01             0   \n",
      "...        ...                         ...    ...          ...           ...   \n",
      "27070  1065230             Room of Pandora   2.09   2019-04-24             0   \n",
      "27071  1065570                   Cyber Gun   1.69   2019-04-23             0   \n",
      "27072  1065650            Super Star Blast   3.99   2019-04-24             0   \n",
      "27073  1066700  New Yankee 7: Deer Hunters   5.19   2019-04-17             0   \n",
      "27074  1069460                   Rune Lord   5.19   2019-04-24             0   \n",
      "\n",
      "                 publishers          developers  \\\n",
      "0                     Valve               Valve   \n",
      "1                     Valve               Valve   \n",
      "2                     Valve               Valve   \n",
      "3                     Valve               Valve   \n",
      "4                     Valve    Gearbox Software   \n",
      "...                     ...                 ...   \n",
      "27070           SHEN JIAWEI         SHEN JIAWEI   \n",
      "27071      BekkerDev Studio      Semyon Maximov   \n",
      "27072           EntwicklerX         EntwicklerX   \n",
      "27073  Alawar Entertainment  Yustas Game Studio   \n",
      "27074  Alawar Entertainment    Adept Studios GD   \n",
      "\n",
      "                                              categories  \\\n",
      "0      Multi-player;Online Multi-Player;Local Multi-P...   \n",
      "1      Multi-player;Online Multi-Player;Local Multi-P...   \n",
      "2                  Multi-player;Valve Anti-Cheat enabled   \n",
      "3      Multi-player;Online Multi-Player;Local Multi-P...   \n",
      "4      Single-player;Multi-player;Valve Anti-Cheat en...   \n",
      "...                                                  ...   \n",
      "27070                   Single-player;Steam Achievements   \n",
      "27071                                      Single-player   \n",
      "27072  Single-player;Multi-player;Co-op;Shared/Split ...   \n",
      "27073                          Single-player;Steam Cloud   \n",
      "27074                          Single-player;Steam Cloud   \n",
      "\n",
      "                       genres  ratings  totalRatings  average_playtime  \\\n",
      "0                      Action    97.39        127873             17612   \n",
      "1                      Action    83.98          3951               277   \n",
      "2                      Action    89.56          3814               187   \n",
      "3                      Action    82.66          1540               258   \n",
      "4                      Action    94.80          5538               624   \n",
      "...                       ...      ...           ...               ...   \n",
      "27070  Adventure;Casual;Indie   100.00             3                 0   \n",
      "27071  Action;Adventure;Indie    88.89             9                 0   \n",
      "27072     Action;Casual;Indie     0.00             1                 0   \n",
      "27073  Adventure;Casual;Indie   100.00             2                 0   \n",
      "27074  Adventure;Casual;Indie   100.00             4                 0   \n",
      "\n",
      "       median_playtime         num_owners  \n",
      "0                  317  10000000-20000000  \n",
      "1                   62   5000000-10000000  \n",
      "2                   34   5000000-10000000  \n",
      "3                  184   5000000-10000000  \n",
      "4                  415   5000000-10000000  \n",
      "...                ...                ...  \n",
      "27070                0            0-20000  \n",
      "27071                0            0-20000  \n",
      "27072                0            0-20000  \n",
      "27073                0            0-20000  \n",
      "27074                0            0-20000  \n",
      "\n",
      "[27075 rows x 14 columns]\n"
     ]
    }
   ],
   "source": [
    "file  =  open(\"datasets/games (2).csv\")\n",
    "data = csv.reader(file)\n",
    "data  = pandas.read_csv(\"datasets/games (2).csv\")\n",
    "print(data)\n",
    "print(data.head())"
   ],
   "metadata": {
    "collapsed": false
   }
  },
  {
   "cell_type": "code",
   "execution_count": 41,
   "outputs": [
    {
     "name": "stdout",
     "output_type": "stream",
     "text": [
      "36.0\n"
     ]
    },
    {
     "data": {
      "text/plain": "        appid                              name  price release_date  \\\n25        730  Counter-Strike: Global Offensive   0.00   2012-08-21   \n22        570                            Dota 2   0.00   2013-07-09   \n12836  578080     PLAYERUNKNOWN'S BATTLEGROUNDS  26.99   2017-12-21   \n19        440                   Team Fortress 2   0.00   2007-10-10   \n2478   271590                Grand Theft Auto V  24.99   2015-04-13   \n...       ...                               ...    ...          ...   \n18763  755670                       Sleep Tight  11.39   2018-07-26   \n9942   500320          A Tale of Caos: Overture   5.99   2016-12-21   \n7473   423440                 Choice of Kung Fu   3.99   2015-12-11   \n20540  805450         Derrek Quest V Regression   0.79   2018-02-28   \n24639  938810         雨鸦 - You are my sanctuary   0.79   2018-09-25   \n\n       required_age        publishers                       developers  \\\n25                0             Valve  Valve;Hidden Path Entertainment   \n22                0             Valve                            Valve   \n12836             0  PUBG Corporation                 PUBG Corporation   \n19                0             Valve                            Valve   \n2478             18    Rockstar Games                   Rockstar North   \n...             ...               ...                              ...   \n18763             0      We Are Fuzzy                     We Are Fuzzy   \n9942              0        Eli Daddio                 ExperaGameStudio   \n7473              0   Choice of Games                  Choice of Games   \n20540             0       Alexeibelih                            Manuf   \n24639             0             迷糊的安安                            迷糊的安安   \n\n                                              categories  \\\n25     Multi-player;Steam Achievements;Full controlle...   \n22     Multi-player;Co-op;Steam Trading Cards;Steam W...   \n12836             Multi-player;Online Multi-Player;Stats   \n19     Multi-player;Cross-Platform Multiplayer;Steam ...   \n2478   Single-player;Multi-player;Steam Achievements;...   \n...                                                  ...   \n18763  Single-player;Steam Achievements;Full controll...   \n9942   Single-player;Steam Achievements;Steam Trading...   \n7473   Single-player;Steam Achievements;Captions avai...   \n20540                                      Single-player   \n24639                   Single-player;Steam Achievements   \n\n                                       genres  ratings  totalRatings  \\\n25                        Action;Free to Play    86.80       3046717   \n22               Action;Free to Play;Strategy    85.87       1005586   \n12836  Action;Adventure;Massively Multiplayer    50.46        983260   \n19                        Action;Free to Play    93.81        549915   \n2478                         Action;Adventure    70.26        468369   \n...                                       ...      ...           ...   \n18763                   Action;Indie;Strategy    86.49            37   \n9942                          Adventure;Indie    70.27            37   \n7473                                Indie;RPG    94.59            37   \n20540           Action;Adventure;Casual;Indie    48.65            37   \n24639                               Indie;RPG    97.30            37   \n\n       average_playtime  median_playtime           num_owners  weighted_rating  \n25                22494             6502   50000000-100000000        86.799819  \n22                23944              801  100000000-200000000        85.869484  \n12836             22938            12434   50000000-100000000        50.460768  \n19                 8495              623    20000000-50000000        93.808536  \n2478               9837             4834    10000000-20000000        70.260091  \n...                 ...              ...                  ...              ...  \n18763                 0                0              0-20000        79.071959  \n9942                  0                0              0-20000        70.850863  \n7473                  0                0              0-20000        83.177438  \n20540                 0                0              0-20000        59.892780  \n24639                 0                0              0-20000        84.551000  \n\n[13392 rows x 15 columns]",
      "text/html": "<div>\n<style scoped>\n    .dataframe tbody tr th:only-of-type {\n        vertical-align: middle;\n    }\n\n    .dataframe tbody tr th {\n        vertical-align: top;\n    }\n\n    .dataframe thead th {\n        text-align: right;\n    }\n</style>\n<table border=\"1\" class=\"dataframe\">\n  <thead>\n    <tr style=\"text-align: right;\">\n      <th></th>\n      <th>appid</th>\n      <th>name</th>\n      <th>price</th>\n      <th>release_date</th>\n      <th>required_age</th>\n      <th>publishers</th>\n      <th>developers</th>\n      <th>categories</th>\n      <th>genres</th>\n      <th>ratings</th>\n      <th>totalRatings</th>\n      <th>average_playtime</th>\n      <th>median_playtime</th>\n      <th>num_owners</th>\n      <th>weighted_rating</th>\n    </tr>\n  </thead>\n  <tbody>\n    <tr>\n      <th>25</th>\n      <td>730</td>\n      <td>Counter-Strike: Global Offensive</td>\n      <td>0.00</td>\n      <td>2012-08-21</td>\n      <td>0</td>\n      <td>Valve</td>\n      <td>Valve;Hidden Path Entertainment</td>\n      <td>Multi-player;Steam Achievements;Full controlle...</td>\n      <td>Action;Free to Play</td>\n      <td>86.80</td>\n      <td>3046717</td>\n      <td>22494</td>\n      <td>6502</td>\n      <td>50000000-100000000</td>\n      <td>86.799819</td>\n    </tr>\n    <tr>\n      <th>22</th>\n      <td>570</td>\n      <td>Dota 2</td>\n      <td>0.00</td>\n      <td>2013-07-09</td>\n      <td>0</td>\n      <td>Valve</td>\n      <td>Valve</td>\n      <td>Multi-player;Co-op;Steam Trading Cards;Steam W...</td>\n      <td>Action;Free to Play;Strategy</td>\n      <td>85.87</td>\n      <td>1005586</td>\n      <td>23944</td>\n      <td>801</td>\n      <td>100000000-200000000</td>\n      <td>85.869484</td>\n    </tr>\n    <tr>\n      <th>12836</th>\n      <td>578080</td>\n      <td>PLAYERUNKNOWN'S BATTLEGROUNDS</td>\n      <td>26.99</td>\n      <td>2017-12-21</td>\n      <td>0</td>\n      <td>PUBG Corporation</td>\n      <td>PUBG Corporation</td>\n      <td>Multi-player;Online Multi-Player;Stats</td>\n      <td>Action;Adventure;Massively Multiplayer</td>\n      <td>50.46</td>\n      <td>983260</td>\n      <td>22938</td>\n      <td>12434</td>\n      <td>50000000-100000000</td>\n      <td>50.460768</td>\n    </tr>\n    <tr>\n      <th>19</th>\n      <td>440</td>\n      <td>Team Fortress 2</td>\n      <td>0.00</td>\n      <td>2007-10-10</td>\n      <td>0</td>\n      <td>Valve</td>\n      <td>Valve</td>\n      <td>Multi-player;Cross-Platform Multiplayer;Steam ...</td>\n      <td>Action;Free to Play</td>\n      <td>93.81</td>\n      <td>549915</td>\n      <td>8495</td>\n      <td>623</td>\n      <td>20000000-50000000</td>\n      <td>93.808536</td>\n    </tr>\n    <tr>\n      <th>2478</th>\n      <td>271590</td>\n      <td>Grand Theft Auto V</td>\n      <td>24.99</td>\n      <td>2015-04-13</td>\n      <td>18</td>\n      <td>Rockstar Games</td>\n      <td>Rockstar North</td>\n      <td>Single-player;Multi-player;Steam Achievements;...</td>\n      <td>Action;Adventure</td>\n      <td>70.26</td>\n      <td>468369</td>\n      <td>9837</td>\n      <td>4834</td>\n      <td>10000000-20000000</td>\n      <td>70.260091</td>\n    </tr>\n    <tr>\n      <th>...</th>\n      <td>...</td>\n      <td>...</td>\n      <td>...</td>\n      <td>...</td>\n      <td>...</td>\n      <td>...</td>\n      <td>...</td>\n      <td>...</td>\n      <td>...</td>\n      <td>...</td>\n      <td>...</td>\n      <td>...</td>\n      <td>...</td>\n      <td>...</td>\n      <td>...</td>\n    </tr>\n    <tr>\n      <th>18763</th>\n      <td>755670</td>\n      <td>Sleep Tight</td>\n      <td>11.39</td>\n      <td>2018-07-26</td>\n      <td>0</td>\n      <td>We Are Fuzzy</td>\n      <td>We Are Fuzzy</td>\n      <td>Single-player;Steam Achievements;Full controll...</td>\n      <td>Action;Indie;Strategy</td>\n      <td>86.49</td>\n      <td>37</td>\n      <td>0</td>\n      <td>0</td>\n      <td>0-20000</td>\n      <td>79.071959</td>\n    </tr>\n    <tr>\n      <th>9942</th>\n      <td>500320</td>\n      <td>A Tale of Caos: Overture</td>\n      <td>5.99</td>\n      <td>2016-12-21</td>\n      <td>0</td>\n      <td>Eli Daddio</td>\n      <td>ExperaGameStudio</td>\n      <td>Single-player;Steam Achievements;Steam Trading...</td>\n      <td>Adventure;Indie</td>\n      <td>70.27</td>\n      <td>37</td>\n      <td>0</td>\n      <td>0</td>\n      <td>0-20000</td>\n      <td>70.850863</td>\n    </tr>\n    <tr>\n      <th>7473</th>\n      <td>423440</td>\n      <td>Choice of Kung Fu</td>\n      <td>3.99</td>\n      <td>2015-12-11</td>\n      <td>0</td>\n      <td>Choice of Games</td>\n      <td>Choice of Games</td>\n      <td>Single-player;Steam Achievements;Captions avai...</td>\n      <td>Indie;RPG</td>\n      <td>94.59</td>\n      <td>37</td>\n      <td>0</td>\n      <td>0</td>\n      <td>0-20000</td>\n      <td>83.177438</td>\n    </tr>\n    <tr>\n      <th>20540</th>\n      <td>805450</td>\n      <td>Derrek Quest V Regression</td>\n      <td>0.79</td>\n      <td>2018-02-28</td>\n      <td>0</td>\n      <td>Alexeibelih</td>\n      <td>Manuf</td>\n      <td>Single-player</td>\n      <td>Action;Adventure;Casual;Indie</td>\n      <td>48.65</td>\n      <td>37</td>\n      <td>0</td>\n      <td>0</td>\n      <td>0-20000</td>\n      <td>59.892780</td>\n    </tr>\n    <tr>\n      <th>24639</th>\n      <td>938810</td>\n      <td>雨鸦 - You are my sanctuary</td>\n      <td>0.79</td>\n      <td>2018-09-25</td>\n      <td>0</td>\n      <td>迷糊的安安</td>\n      <td>迷糊的安安</td>\n      <td>Single-player;Steam Achievements</td>\n      <td>Indie;RPG</td>\n      <td>97.30</td>\n      <td>37</td>\n      <td>0</td>\n      <td>0</td>\n      <td>0-20000</td>\n      <td>84.551000</td>\n    </tr>\n  </tbody>\n</table>\n<p>13392 rows × 15 columns</p>\n</div>"
     },
     "execution_count": 41,
     "metadata": {},
     "output_type": "execute_result"
    }
   ],
   "source": [
    "# Step 1: Determine the minimum number of ratings required to be listed, using the 50th percen|tile as a threshold\n",
    "m = data['totalRatings'].quantile(0.50)\n",
    "print(m)\n",
    "\n",
    "# Step 2: Calculate C, the mean rating across all games\n",
    "C = data['ratings'].mean()\n",
    "\n",
    "# Apply the weighted rating formula\n",
    "data['weighted_rating'] = (data['totalRatings'] / (data['totalRatings'] + m) * data['ratings']) + (m / (data['totalRatings'] + m) * C)\n",
    "\n",
    "# Display the first few rows to verify the calculation\n",
    "data[['name', 'ratings', 'totalRatings', 'weighted_rating']]\n",
    "sorted  = data.sort_values(by=['totalRatings'], ascending=False)\n",
    "sorted[sorted['totalRatings']> 36]\n",
    "\n"
   ],
   "metadata": {
    "collapsed": false
   }
  },
  {
   "cell_type": "code",
   "execution_count": 47,
   "outputs": [],
   "source": [
    "from sklearn.cluster import KMeans\n",
    "import matplotlib.pyplot as plt"
   ],
   "metadata": {
    "collapsed": false
   }
  },
  {
   "cell_type": "code",
   "execution_count": 57,
   "outputs": [
    {
     "name": "stdout",
     "output_type": "stream",
     "text": [
      "[2 2 0 ... 1 1 1]\n"
     ]
    }
   ],
   "source": [
    "# Isolating the 'weighted_rating' column for K-means\n",
    "X = sorted[['weighted_rating']]\n",
    "\n",
    "# Using the elbow method to find the optimal number of clusters\n",
    "kmeans = KMeans(n_clusters=3)\n",
    "kmeans.fit(X)\n",
    "\n"
   ],
   "metadata": {
    "collapsed": false
   }
  },
  {
   "cell_type": "code",
   "execution_count": 60,
   "outputs": [
    {
     "name": "stdout",
     "output_type": "stream",
     "text": [
      "        appid                                               name  price  \\\n",
      "25        730                   Counter-Strike: Global Offensive   0.00   \n",
      "22        570                                             Dota 2   0.00   \n",
      "12836  578080                      PLAYERUNKNOWN'S BATTLEGROUNDS  26.99   \n",
      "19        440                                    Team Fortress 2   0.00   \n",
      "2478   271590                                 Grand Theft Auto V  24.99   \n",
      "...       ...                                                ...    ...   \n",
      "16078  678430  Mayan Prophecies: Cursed Island Collector's Ed...   7.19   \n",
      "25879  991090                             Snake VS Block Numbers   0.79   \n",
      "16087  678570                                         VR Fitness   6.99   \n",
      "25876  990950                          Indiana Boy Steam Edition   0.79   \n",
      "23699  904770                             Divine Miracle Defense   2.09   \n",
      "\n",
      "      release_date  required_age        publishers  \\\n",
      "25      2012-08-21             0             Valve   \n",
      "22      2013-07-09             0             Valve   \n",
      "12836   2017-12-21             0  PUBG Corporation   \n",
      "19      2007-10-10             0             Valve   \n",
      "2478    2015-04-13            18    Rockstar Games   \n",
      "...            ...           ...               ...   \n",
      "16078   2017-07-26             0    Big Fish Games   \n",
      "25879   2018-12-21             0      Dexion Games   \n",
      "16087   2017-08-06             0    iDEACLOUD inc.   \n",
      "25876   2018-12-13             0           One Man   \n",
      "23699   2018-08-16             0          ThiefCat   \n",
      "\n",
      "                            developers  \\\n",
      "25     Valve;Hidden Path Entertainment   \n",
      "22                               Valve   \n",
      "12836                 PUBG Corporation   \n",
      "19                               Valve   \n",
      "2478                    Rockstar North   \n",
      "...                                ...   \n",
      "16078                     EleFun Games   \n",
      "25879                     Dexion Games   \n",
      "16087                   iDEACLOUD inc.   \n",
      "25876                          One Man   \n",
      "23699                         ThiefCat   \n",
      "\n",
      "                                              categories  \\\n",
      "25     Multi-player;Steam Achievements;Full controlle...   \n",
      "22     Multi-player;Co-op;Steam Trading Cards;Steam W...   \n",
      "12836             Multi-player;Online Multi-Player;Stats   \n",
      "19     Multi-player;Cross-Platform Multiplayer;Steam ...   \n",
      "2478   Single-player;Multi-player;Steam Achievements;...   \n",
      "...                                                  ...   \n",
      "16078                                      Single-player   \n",
      "25879                                      Single-player   \n",
      "16087                                      Single-player   \n",
      "25876                                      Single-player   \n",
      "23699       Single-player;Steam Achievements;Steam Cloud   \n",
      "\n",
      "                                       genres  ratings  totalRatings  \\\n",
      "25                        Action;Free to Play    86.80       3046717   \n",
      "22               Action;Free to Play;Strategy    85.87       1005586   \n",
      "12836  Action;Adventure;Massively Multiplayer    50.46        983260   \n",
      "19                        Action;Free to Play    93.81        549915   \n",
      "2478                         Action;Adventure    70.26        468369   \n",
      "...                                       ...      ...           ...   \n",
      "16078                        Adventure;Casual   100.00             1   \n",
      "25879                   Casual;Indie;Strategy     0.00             1   \n",
      "16087                           Action;Sports     0.00             1   \n",
      "25876                  Adventure;Casual;Indie     0.00             1   \n",
      "23699                   Casual;Indie;Strategy   100.00             1   \n",
      "\n",
      "       average_playtime  median_playtime           num_owners  \\\n",
      "25                22494             6502   50000000-100000000   \n",
      "22                23944              801  100000000-200000000   \n",
      "12836             22938            12434   50000000-100000000   \n",
      "19                 8495              623    20000000-50000000   \n",
      "2478               9837             4834    10000000-20000000   \n",
      "...                 ...              ...                  ...   \n",
      "16078                 0                0              0-20000   \n",
      "25879                 0                0              0-20000   \n",
      "16087                 0                0              0-20000   \n",
      "25876                 0                0              0-20000   \n",
      "23699                 0                0              0-20000   \n",
      "\n",
      "       weighted_rating  lables  \n",
      "25           86.799819       2  \n",
      "22           85.869484       2  \n",
      "12836        50.460768       0  \n",
      "19           93.808536       2  \n",
      "2478         70.260091       1  \n",
      "...                ...     ...  \n",
      "16078        72.219540       1  \n",
      "25879        69.516837       1  \n",
      "16087        69.516837       1  \n",
      "25876        69.516837       1  \n",
      "23699        72.219540       1  \n",
      "\n",
      "[27075 rows x 16 columns]\n"
     ]
    }
   ],
   "source": [
    "sorted['lables']= kmeans.labels_\n"
   ],
   "metadata": {
    "collapsed": false
   }
  },
  {
   "cell_type": "code",
   "execution_count": 62,
   "outputs": [
    {
     "data": {
      "text/plain": "        appid                                               name  price  \\\n25        730                   Counter-Strike: Global Offensive   0.00   \n22        570                                             Dota 2   0.00   \n12836  578080                      PLAYERUNKNOWN'S BATTLEGROUNDS  26.99   \n19        440                                    Team Fortress 2   0.00   \n2478   271590                                 Grand Theft Auto V  24.99   \n...       ...                                                ...    ...   \n16078  678430  Mayan Prophecies: Cursed Island Collector's Ed...   7.19   \n25879  991090                             Snake VS Block Numbers   0.79   \n16087  678570                                         VR Fitness   6.99   \n25876  990950                          Indiana Boy Steam Edition   0.79   \n23699  904770                             Divine Miracle Defense   2.09   \n\n      release_date  required_age        publishers  \\\n25      2012-08-21             0             Valve   \n22      2013-07-09             0             Valve   \n12836   2017-12-21             0  PUBG Corporation   \n19      2007-10-10             0             Valve   \n2478    2015-04-13            18    Rockstar Games   \n...            ...           ...               ...   \n16078   2017-07-26             0    Big Fish Games   \n25879   2018-12-21             0      Dexion Games   \n16087   2017-08-06             0    iDEACLOUD inc.   \n25876   2018-12-13             0           One Man   \n23699   2018-08-16             0          ThiefCat   \n\n                            developers  \\\n25     Valve;Hidden Path Entertainment   \n22                               Valve   \n12836                 PUBG Corporation   \n19                               Valve   \n2478                    Rockstar North   \n...                                ...   \n16078                     EleFun Games   \n25879                     Dexion Games   \n16087                   iDEACLOUD inc.   \n25876                          One Man   \n23699                         ThiefCat   \n\n                                              categories  \\\n25     Multi-player;Steam Achievements;Full controlle...   \n22     Multi-player;Co-op;Steam Trading Cards;Steam W...   \n12836             Multi-player;Online Multi-Player;Stats   \n19     Multi-player;Cross-Platform Multiplayer;Steam ...   \n2478   Single-player;Multi-player;Steam Achievements;...   \n...                                                  ...   \n16078                                      Single-player   \n25879                                      Single-player   \n16087                                      Single-player   \n25876                                      Single-player   \n23699       Single-player;Steam Achievements;Steam Cloud   \n\n                                       genres  ratings  totalRatings  \\\n25                        Action;Free to Play    86.80       3046717   \n22               Action;Free to Play;Strategy    85.87       1005586   \n12836  Action;Adventure;Massively Multiplayer    50.46        983260   \n19                        Action;Free to Play    93.81        549915   \n2478                         Action;Adventure    70.26        468369   \n...                                       ...      ...           ...   \n16078                        Adventure;Casual   100.00             1   \n25879                   Casual;Indie;Strategy     0.00             1   \n16087                           Action;Sports     0.00             1   \n25876                  Adventure;Casual;Indie     0.00             1   \n23699                   Casual;Indie;Strategy   100.00             1   \n\n       average_playtime  median_playtime           num_owners  \\\n25                22494             6502   50000000-100000000   \n22                23944              801  100000000-200000000   \n12836             22938            12434   50000000-100000000   \n19                 8495              623    20000000-50000000   \n2478               9837             4834    10000000-20000000   \n...                 ...              ...                  ...   \n16078                 0                0              0-20000   \n25879                 0                0              0-20000   \n16087                 0                0              0-20000   \n25876                 0                0              0-20000   \n23699                 0                0              0-20000   \n\n       weighted_rating  lables  \n25           86.799819       2  \n22           85.869484       2  \n12836        50.460768       0  \n19           93.808536       2  \n2478         70.260091       1  \n...                ...     ...  \n16078        72.219540       1  \n25879        69.516837       1  \n16087        69.516837       1  \n25876        69.516837       1  \n23699        72.219540       1  \n\n[27075 rows x 16 columns]",
      "text/html": "<div>\n<style scoped>\n    .dataframe tbody tr th:only-of-type {\n        vertical-align: middle;\n    }\n\n    .dataframe tbody tr th {\n        vertical-align: top;\n    }\n\n    .dataframe thead th {\n        text-align: right;\n    }\n</style>\n<table border=\"1\" class=\"dataframe\">\n  <thead>\n    <tr style=\"text-align: right;\">\n      <th></th>\n      <th>appid</th>\n      <th>name</th>\n      <th>price</th>\n      <th>release_date</th>\n      <th>required_age</th>\n      <th>publishers</th>\n      <th>developers</th>\n      <th>categories</th>\n      <th>genres</th>\n      <th>ratings</th>\n      <th>totalRatings</th>\n      <th>average_playtime</th>\n      <th>median_playtime</th>\n      <th>num_owners</th>\n      <th>weighted_rating</th>\n      <th>lables</th>\n    </tr>\n  </thead>\n  <tbody>\n    <tr>\n      <th>25</th>\n      <td>730</td>\n      <td>Counter-Strike: Global Offensive</td>\n      <td>0.00</td>\n      <td>2012-08-21</td>\n      <td>0</td>\n      <td>Valve</td>\n      <td>Valve;Hidden Path Entertainment</td>\n      <td>Multi-player;Steam Achievements;Full controlle...</td>\n      <td>Action;Free to Play</td>\n      <td>86.80</td>\n      <td>3046717</td>\n      <td>22494</td>\n      <td>6502</td>\n      <td>50000000-100000000</td>\n      <td>86.799819</td>\n      <td>2</td>\n    </tr>\n    <tr>\n      <th>22</th>\n      <td>570</td>\n      <td>Dota 2</td>\n      <td>0.00</td>\n      <td>2013-07-09</td>\n      <td>0</td>\n      <td>Valve</td>\n      <td>Valve</td>\n      <td>Multi-player;Co-op;Steam Trading Cards;Steam W...</td>\n      <td>Action;Free to Play;Strategy</td>\n      <td>85.87</td>\n      <td>1005586</td>\n      <td>23944</td>\n      <td>801</td>\n      <td>100000000-200000000</td>\n      <td>85.869484</td>\n      <td>2</td>\n    </tr>\n    <tr>\n      <th>12836</th>\n      <td>578080</td>\n      <td>PLAYERUNKNOWN'S BATTLEGROUNDS</td>\n      <td>26.99</td>\n      <td>2017-12-21</td>\n      <td>0</td>\n      <td>PUBG Corporation</td>\n      <td>PUBG Corporation</td>\n      <td>Multi-player;Online Multi-Player;Stats</td>\n      <td>Action;Adventure;Massively Multiplayer</td>\n      <td>50.46</td>\n      <td>983260</td>\n      <td>22938</td>\n      <td>12434</td>\n      <td>50000000-100000000</td>\n      <td>50.460768</td>\n      <td>0</td>\n    </tr>\n    <tr>\n      <th>19</th>\n      <td>440</td>\n      <td>Team Fortress 2</td>\n      <td>0.00</td>\n      <td>2007-10-10</td>\n      <td>0</td>\n      <td>Valve</td>\n      <td>Valve</td>\n      <td>Multi-player;Cross-Platform Multiplayer;Steam ...</td>\n      <td>Action;Free to Play</td>\n      <td>93.81</td>\n      <td>549915</td>\n      <td>8495</td>\n      <td>623</td>\n      <td>20000000-50000000</td>\n      <td>93.808536</td>\n      <td>2</td>\n    </tr>\n    <tr>\n      <th>2478</th>\n      <td>271590</td>\n      <td>Grand Theft Auto V</td>\n      <td>24.99</td>\n      <td>2015-04-13</td>\n      <td>18</td>\n      <td>Rockstar Games</td>\n      <td>Rockstar North</td>\n      <td>Single-player;Multi-player;Steam Achievements;...</td>\n      <td>Action;Adventure</td>\n      <td>70.26</td>\n      <td>468369</td>\n      <td>9837</td>\n      <td>4834</td>\n      <td>10000000-20000000</td>\n      <td>70.260091</td>\n      <td>1</td>\n    </tr>\n    <tr>\n      <th>...</th>\n      <td>...</td>\n      <td>...</td>\n      <td>...</td>\n      <td>...</td>\n      <td>...</td>\n      <td>...</td>\n      <td>...</td>\n      <td>...</td>\n      <td>...</td>\n      <td>...</td>\n      <td>...</td>\n      <td>...</td>\n      <td>...</td>\n      <td>...</td>\n      <td>...</td>\n      <td>...</td>\n    </tr>\n    <tr>\n      <th>16078</th>\n      <td>678430</td>\n      <td>Mayan Prophecies: Cursed Island Collector's Ed...</td>\n      <td>7.19</td>\n      <td>2017-07-26</td>\n      <td>0</td>\n      <td>Big Fish Games</td>\n      <td>EleFun Games</td>\n      <td>Single-player</td>\n      <td>Adventure;Casual</td>\n      <td>100.00</td>\n      <td>1</td>\n      <td>0</td>\n      <td>0</td>\n      <td>0-20000</td>\n      <td>72.219540</td>\n      <td>1</td>\n    </tr>\n    <tr>\n      <th>25879</th>\n      <td>991090</td>\n      <td>Snake VS Block Numbers</td>\n      <td>0.79</td>\n      <td>2018-12-21</td>\n      <td>0</td>\n      <td>Dexion Games</td>\n      <td>Dexion Games</td>\n      <td>Single-player</td>\n      <td>Casual;Indie;Strategy</td>\n      <td>0.00</td>\n      <td>1</td>\n      <td>0</td>\n      <td>0</td>\n      <td>0-20000</td>\n      <td>69.516837</td>\n      <td>1</td>\n    </tr>\n    <tr>\n      <th>16087</th>\n      <td>678570</td>\n      <td>VR Fitness</td>\n      <td>6.99</td>\n      <td>2017-08-06</td>\n      <td>0</td>\n      <td>iDEACLOUD inc.</td>\n      <td>iDEACLOUD inc.</td>\n      <td>Single-player</td>\n      <td>Action;Sports</td>\n      <td>0.00</td>\n      <td>1</td>\n      <td>0</td>\n      <td>0</td>\n      <td>0-20000</td>\n      <td>69.516837</td>\n      <td>1</td>\n    </tr>\n    <tr>\n      <th>25876</th>\n      <td>990950</td>\n      <td>Indiana Boy Steam Edition</td>\n      <td>0.79</td>\n      <td>2018-12-13</td>\n      <td>0</td>\n      <td>One Man</td>\n      <td>One Man</td>\n      <td>Single-player</td>\n      <td>Adventure;Casual;Indie</td>\n      <td>0.00</td>\n      <td>1</td>\n      <td>0</td>\n      <td>0</td>\n      <td>0-20000</td>\n      <td>69.516837</td>\n      <td>1</td>\n    </tr>\n    <tr>\n      <th>23699</th>\n      <td>904770</td>\n      <td>Divine Miracle Defense</td>\n      <td>2.09</td>\n      <td>2018-08-16</td>\n      <td>0</td>\n      <td>ThiefCat</td>\n      <td>ThiefCat</td>\n      <td>Single-player;Steam Achievements;Steam Cloud</td>\n      <td>Casual;Indie;Strategy</td>\n      <td>100.00</td>\n      <td>1</td>\n      <td>0</td>\n      <td>0</td>\n      <td>0-20000</td>\n      <td>72.219540</td>\n      <td>1</td>\n    </tr>\n  </tbody>\n</table>\n<p>27075 rows × 16 columns</p>\n</div>"
     },
     "execution_count": 62,
     "metadata": {},
     "output_type": "execute_result"
    }
   ],
   "source": [],
   "metadata": {
    "collapsed": false
   }
  },
  {
   "cell_type": "code",
   "execution_count": 60,
   "outputs": [],
   "source": [],
   "metadata": {
    "collapsed": false
   }
  }
 ],
 "metadata": {
  "kernelspec": {
   "display_name": "Python 3",
   "language": "python",
   "name": "python3"
  },
  "language_info": {
   "codemirror_mode": {
    "name": "ipython",
    "version": 2
   },
   "file_extension": ".py",
   "mimetype": "text/x-python",
   "name": "python",
   "nbconvert_exporter": "python",
   "pygments_lexer": "ipython2",
   "version": "2.7.6"
  }
 },
 "nbformat": 4,
 "nbformat_minor": 0
}
