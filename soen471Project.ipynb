{
 "cells": [
  {
   "cell_type": "code",
   "execution_count": null,
   "metadata": {
    "collapsed": true
   },
   "outputs": [],
   "source": []
  },
  {
   "cell_type": "code",
   "execution_count": 16,
   "outputs": [],
   "source": [
    "import csv\n",
    "import pandas\n",
    "from collections import Counter"
   ],
   "metadata": {
    "collapsed": false
   }
  },
  {
   "cell_type": "markdown",
   "source": [],
   "metadata": {
    "collapsed": false
   }
  },
  {
   "cell_type": "markdown",
   "source": [],
   "metadata": {
    "collapsed": false
   }
  },
  {
   "cell_type": "markdown",
   "source": [],
   "metadata": {
    "collapsed": false
   }
  },
  {
   "cell_type": "markdown",
   "source": [
    "Dataset"
   ],
   "metadata": {
    "collapsed": false
   }
  },
  {
   "cell_type": "code",
   "execution_count": 2,
   "outputs": [
    {
     "name": "stdout",
     "output_type": "stream",
     "text": [
      "         appid                        name  price release_date  required_age  \\\n",
      "0           10              Counter-Strike   7.19   2000-11-01             0   \n",
      "1           20       Team Fortress Classic   3.99   1999-04-01             0   \n",
      "2           30               Day of Defeat   3.99   2003-05-01             0   \n",
      "3           40          Deathmatch Classic   3.99   2001-06-01             0   \n",
      "4           50   Half-Life: Opposing Force   3.99   1999-11-01             0   \n",
      "...        ...                         ...    ...          ...           ...   \n",
      "27070  1065230             Room of Pandora   2.09   2019-04-24             0   \n",
      "27071  1065570                   Cyber Gun   1.69   2019-04-23             0   \n",
      "27072  1065650            Super Star Blast   3.99   2019-04-24             0   \n",
      "27073  1066700  New Yankee 7: Deer Hunters   5.19   2019-04-17             0   \n",
      "27074  1069460                   Rune Lord   5.19   2019-04-24             0   \n",
      "\n",
      "                 publishers          developers  \\\n",
      "0                     Valve               Valve   \n",
      "1                     Valve               Valve   \n",
      "2                     Valve               Valve   \n",
      "3                     Valve               Valve   \n",
      "4                     Valve    Gearbox Software   \n",
      "...                     ...                 ...   \n",
      "27070           SHEN JIAWEI         SHEN JIAWEI   \n",
      "27071      BekkerDev Studio      Semyon Maximov   \n",
      "27072           EntwicklerX         EntwicklerX   \n",
      "27073  Alawar Entertainment  Yustas Game Studio   \n",
      "27074  Alawar Entertainment    Adept Studios GD   \n",
      "\n",
      "                                              categories  \\\n",
      "0      Multi-player;Online Multi-Player;Local Multi-P...   \n",
      "1      Multi-player;Online Multi-Player;Local Multi-P...   \n",
      "2                  Multi-player;Valve Anti-Cheat enabled   \n",
      "3      Multi-player;Online Multi-Player;Local Multi-P...   \n",
      "4      Single-player;Multi-player;Valve Anti-Cheat en...   \n",
      "...                                                  ...   \n",
      "27070                   Single-player;Steam Achievements   \n",
      "27071                                      Single-player   \n",
      "27072  Single-player;Multi-player;Co-op;Shared/Split ...   \n",
      "27073                          Single-player;Steam Cloud   \n",
      "27074                          Single-player;Steam Cloud   \n",
      "\n",
      "                       genres  ratings  totalRatings  average_playtime  \\\n",
      "0                      Action    97.39        127873             17612   \n",
      "1                      Action    83.98          3951               277   \n",
      "2                      Action    89.56          3814               187   \n",
      "3                      Action    82.66          1540               258   \n",
      "4                      Action    94.80          5538               624   \n",
      "...                       ...      ...           ...               ...   \n",
      "27070  Adventure;Casual;Indie   100.00             3                 0   \n",
      "27071  Action;Adventure;Indie    88.89             9                 0   \n",
      "27072     Action;Casual;Indie     0.00             1                 0   \n",
      "27073  Adventure;Casual;Indie   100.00             2                 0   \n",
      "27074  Adventure;Casual;Indie   100.00             4                 0   \n",
      "\n",
      "       median_playtime         num_owners  \n",
      "0                  317  10000000-20000000  \n",
      "1                   62   5000000-10000000  \n",
      "2                   34   5000000-10000000  \n",
      "3                  184   5000000-10000000  \n",
      "4                  415   5000000-10000000  \n",
      "...                ...                ...  \n",
      "27070                0            0-20000  \n",
      "27071                0            0-20000  \n",
      "27072                0            0-20000  \n",
      "27073                0            0-20000  \n",
      "27074                0            0-20000  \n",
      "\n",
      "[27075 rows x 14 columns]\n",
      "   appid                       name  price release_date  required_age  \\\n",
      "0     10             Counter-Strike   7.19   2000-11-01             0   \n",
      "1     20      Team Fortress Classic   3.99   1999-04-01             0   \n",
      "2     30              Day of Defeat   3.99   2003-05-01             0   \n",
      "3     40         Deathmatch Classic   3.99   2001-06-01             0   \n",
      "4     50  Half-Life: Opposing Force   3.99   1999-11-01             0   \n",
      "\n",
      "  publishers        developers  \\\n",
      "0      Valve             Valve   \n",
      "1      Valve             Valve   \n",
      "2      Valve             Valve   \n",
      "3      Valve             Valve   \n",
      "4      Valve  Gearbox Software   \n",
      "\n",
      "                                          categories  genres  ratings  \\\n",
      "0  Multi-player;Online Multi-Player;Local Multi-P...  Action    97.39   \n",
      "1  Multi-player;Online Multi-Player;Local Multi-P...  Action    83.98   \n",
      "2              Multi-player;Valve Anti-Cheat enabled  Action    89.56   \n",
      "3  Multi-player;Online Multi-Player;Local Multi-P...  Action    82.66   \n",
      "4  Single-player;Multi-player;Valve Anti-Cheat en...  Action    94.80   \n",
      "\n",
      "   totalRatings  average_playtime  median_playtime         num_owners  \n",
      "0        127873             17612              317  10000000-20000000  \n",
      "1          3951               277               62   5000000-10000000  \n",
      "2          3814               187               34   5000000-10000000  \n",
      "3          1540               258              184   5000000-10000000  \n",
      "4          5538               624              415   5000000-10000000  \n"
     ]
    }
   ],
   "source": [
    "file  =  open(\"datasets/games (2).csv\")\n",
    "data = csv.reader(file)\n",
    "data  = pandas.read_csv(\"datasets/games (2).csv\")\n",
    "print(data)\n",
    "print(data.head())"
   ],
   "metadata": {
    "collapsed": false
   }
  },
  {
   "cell_type": "code",
   "execution_count": 3,
   "outputs": [
    {
     "name": "stdout",
     "output_type": "stream",
     "text": [
      "36.0\n"
     ]
    },
    {
     "data": {
      "text/plain": "        appid                              name  price release_date  \\\n25        730  Counter-Strike: Global Offensive   0.00   2012-08-21   \n22        570                            Dota 2   0.00   2013-07-09   \n12836  578080     PLAYERUNKNOWN'S BATTLEGROUNDS  26.99   2017-12-21   \n19        440                   Team Fortress 2   0.00   2007-10-10   \n2478   271590                Grand Theft Auto V  24.99   2015-04-13   \n...       ...                               ...    ...          ...   \n18763  755670                       Sleep Tight  11.39   2018-07-26   \n9942   500320          A Tale of Caos: Overture   5.99   2016-12-21   \n7473   423440                 Choice of Kung Fu   3.99   2015-12-11   \n20540  805450         Derrek Quest V Regression   0.79   2018-02-28   \n24639  938810         雨鸦 - You are my sanctuary   0.79   2018-09-25   \n\n       required_age        publishers                       developers  \\\n25                0             Valve  Valve;Hidden Path Entertainment   \n22                0             Valve                            Valve   \n12836             0  PUBG Corporation                 PUBG Corporation   \n19                0             Valve                            Valve   \n2478             18    Rockstar Games                   Rockstar North   \n...             ...               ...                              ...   \n18763             0      We Are Fuzzy                     We Are Fuzzy   \n9942              0        Eli Daddio                 ExperaGameStudio   \n7473              0   Choice of Games                  Choice of Games   \n20540             0       Alexeibelih                            Manuf   \n24639             0             迷糊的安安                            迷糊的安安   \n\n                                              categories  \\\n25     Multi-player;Steam Achievements;Full controlle...   \n22     Multi-player;Co-op;Steam Trading Cards;Steam W...   \n12836             Multi-player;Online Multi-Player;Stats   \n19     Multi-player;Cross-Platform Multiplayer;Steam ...   \n2478   Single-player;Multi-player;Steam Achievements;...   \n...                                                  ...   \n18763  Single-player;Steam Achievements;Full controll...   \n9942   Single-player;Steam Achievements;Steam Trading...   \n7473   Single-player;Steam Achievements;Captions avai...   \n20540                                      Single-player   \n24639                   Single-player;Steam Achievements   \n\n                                       genres  ratings  totalRatings  \\\n25                        Action;Free to Play    86.80       3046717   \n22               Action;Free to Play;Strategy    85.87       1005586   \n12836  Action;Adventure;Massively Multiplayer    50.46        983260   \n19                        Action;Free to Play    93.81        549915   \n2478                         Action;Adventure    70.26        468369   \n...                                       ...      ...           ...   \n18763                   Action;Indie;Strategy    86.49            37   \n9942                          Adventure;Indie    70.27            37   \n7473                                Indie;RPG    94.59            37   \n20540           Action;Adventure;Casual;Indie    48.65            37   \n24639                               Indie;RPG    97.30            37   \n\n       average_playtime  median_playtime           num_owners  weighted_rating  \n25                22494             6502   50000000-100000000        86.799819  \n22                23944              801  100000000-200000000        85.869484  \n12836             22938            12434   50000000-100000000        50.460768  \n19                 8495              623    20000000-50000000        93.808536  \n2478               9837             4834    10000000-20000000        70.260091  \n...                 ...              ...                  ...              ...  \n18763                 0                0              0-20000        79.071959  \n9942                  0                0              0-20000        70.850863  \n7473                  0                0              0-20000        83.177438  \n20540                 0                0              0-20000        59.892780  \n24639                 0                0              0-20000        84.551000  \n\n[13392 rows x 15 columns]",
      "text/html": "<div>\n<style scoped>\n    .dataframe tbody tr th:only-of-type {\n        vertical-align: middle;\n    }\n\n    .dataframe tbody tr th {\n        vertical-align: top;\n    }\n\n    .dataframe thead th {\n        text-align: right;\n    }\n</style>\n<table border=\"1\" class=\"dataframe\">\n  <thead>\n    <tr style=\"text-align: right;\">\n      <th></th>\n      <th>appid</th>\n      <th>name</th>\n      <th>price</th>\n      <th>release_date</th>\n      <th>required_age</th>\n      <th>publishers</th>\n      <th>developers</th>\n      <th>categories</th>\n      <th>genres</th>\n      <th>ratings</th>\n      <th>totalRatings</th>\n      <th>average_playtime</th>\n      <th>median_playtime</th>\n      <th>num_owners</th>\n      <th>weighted_rating</th>\n    </tr>\n  </thead>\n  <tbody>\n    <tr>\n      <th>25</th>\n      <td>730</td>\n      <td>Counter-Strike: Global Offensive</td>\n      <td>0.00</td>\n      <td>2012-08-21</td>\n      <td>0</td>\n      <td>Valve</td>\n      <td>Valve;Hidden Path Entertainment</td>\n      <td>Multi-player;Steam Achievements;Full controlle...</td>\n      <td>Action;Free to Play</td>\n      <td>86.80</td>\n      <td>3046717</td>\n      <td>22494</td>\n      <td>6502</td>\n      <td>50000000-100000000</td>\n      <td>86.799819</td>\n    </tr>\n    <tr>\n      <th>22</th>\n      <td>570</td>\n      <td>Dota 2</td>\n      <td>0.00</td>\n      <td>2013-07-09</td>\n      <td>0</td>\n      <td>Valve</td>\n      <td>Valve</td>\n      <td>Multi-player;Co-op;Steam Trading Cards;Steam W...</td>\n      <td>Action;Free to Play;Strategy</td>\n      <td>85.87</td>\n      <td>1005586</td>\n      <td>23944</td>\n      <td>801</td>\n      <td>100000000-200000000</td>\n      <td>85.869484</td>\n    </tr>\n    <tr>\n      <th>12836</th>\n      <td>578080</td>\n      <td>PLAYERUNKNOWN'S BATTLEGROUNDS</td>\n      <td>26.99</td>\n      <td>2017-12-21</td>\n      <td>0</td>\n      <td>PUBG Corporation</td>\n      <td>PUBG Corporation</td>\n      <td>Multi-player;Online Multi-Player;Stats</td>\n      <td>Action;Adventure;Massively Multiplayer</td>\n      <td>50.46</td>\n      <td>983260</td>\n      <td>22938</td>\n      <td>12434</td>\n      <td>50000000-100000000</td>\n      <td>50.460768</td>\n    </tr>\n    <tr>\n      <th>19</th>\n      <td>440</td>\n      <td>Team Fortress 2</td>\n      <td>0.00</td>\n      <td>2007-10-10</td>\n      <td>0</td>\n      <td>Valve</td>\n      <td>Valve</td>\n      <td>Multi-player;Cross-Platform Multiplayer;Steam ...</td>\n      <td>Action;Free to Play</td>\n      <td>93.81</td>\n      <td>549915</td>\n      <td>8495</td>\n      <td>623</td>\n      <td>20000000-50000000</td>\n      <td>93.808536</td>\n    </tr>\n    <tr>\n      <th>2478</th>\n      <td>271590</td>\n      <td>Grand Theft Auto V</td>\n      <td>24.99</td>\n      <td>2015-04-13</td>\n      <td>18</td>\n      <td>Rockstar Games</td>\n      <td>Rockstar North</td>\n      <td>Single-player;Multi-player;Steam Achievements;...</td>\n      <td>Action;Adventure</td>\n      <td>70.26</td>\n      <td>468369</td>\n      <td>9837</td>\n      <td>4834</td>\n      <td>10000000-20000000</td>\n      <td>70.260091</td>\n    </tr>\n    <tr>\n      <th>...</th>\n      <td>...</td>\n      <td>...</td>\n      <td>...</td>\n      <td>...</td>\n      <td>...</td>\n      <td>...</td>\n      <td>...</td>\n      <td>...</td>\n      <td>...</td>\n      <td>...</td>\n      <td>...</td>\n      <td>...</td>\n      <td>...</td>\n      <td>...</td>\n      <td>...</td>\n    </tr>\n    <tr>\n      <th>18763</th>\n      <td>755670</td>\n      <td>Sleep Tight</td>\n      <td>11.39</td>\n      <td>2018-07-26</td>\n      <td>0</td>\n      <td>We Are Fuzzy</td>\n      <td>We Are Fuzzy</td>\n      <td>Single-player;Steam Achievements;Full controll...</td>\n      <td>Action;Indie;Strategy</td>\n      <td>86.49</td>\n      <td>37</td>\n      <td>0</td>\n      <td>0</td>\n      <td>0-20000</td>\n      <td>79.071959</td>\n    </tr>\n    <tr>\n      <th>9942</th>\n      <td>500320</td>\n      <td>A Tale of Caos: Overture</td>\n      <td>5.99</td>\n      <td>2016-12-21</td>\n      <td>0</td>\n      <td>Eli Daddio</td>\n      <td>ExperaGameStudio</td>\n      <td>Single-player;Steam Achievements;Steam Trading...</td>\n      <td>Adventure;Indie</td>\n      <td>70.27</td>\n      <td>37</td>\n      <td>0</td>\n      <td>0</td>\n      <td>0-20000</td>\n      <td>70.850863</td>\n    </tr>\n    <tr>\n      <th>7473</th>\n      <td>423440</td>\n      <td>Choice of Kung Fu</td>\n      <td>3.99</td>\n      <td>2015-12-11</td>\n      <td>0</td>\n      <td>Choice of Games</td>\n      <td>Choice of Games</td>\n      <td>Single-player;Steam Achievements;Captions avai...</td>\n      <td>Indie;RPG</td>\n      <td>94.59</td>\n      <td>37</td>\n      <td>0</td>\n      <td>0</td>\n      <td>0-20000</td>\n      <td>83.177438</td>\n    </tr>\n    <tr>\n      <th>20540</th>\n      <td>805450</td>\n      <td>Derrek Quest V Regression</td>\n      <td>0.79</td>\n      <td>2018-02-28</td>\n      <td>0</td>\n      <td>Alexeibelih</td>\n      <td>Manuf</td>\n      <td>Single-player</td>\n      <td>Action;Adventure;Casual;Indie</td>\n      <td>48.65</td>\n      <td>37</td>\n      <td>0</td>\n      <td>0</td>\n      <td>0-20000</td>\n      <td>59.892780</td>\n    </tr>\n    <tr>\n      <th>24639</th>\n      <td>938810</td>\n      <td>雨鸦 - You are my sanctuary</td>\n      <td>0.79</td>\n      <td>2018-09-25</td>\n      <td>0</td>\n      <td>迷糊的安安</td>\n      <td>迷糊的安安</td>\n      <td>Single-player;Steam Achievements</td>\n      <td>Indie;RPG</td>\n      <td>97.30</td>\n      <td>37</td>\n      <td>0</td>\n      <td>0</td>\n      <td>0-20000</td>\n      <td>84.551000</td>\n    </tr>\n  </tbody>\n</table>\n<p>13392 rows × 15 columns</p>\n</div>"
     },
     "execution_count": 3,
     "metadata": {},
     "output_type": "execute_result"
    }
   ],
   "source": [
    "# Step 1: Determine the minimum number of ratings required to be listed, using the 50th percen|tile as a threshold\n",
    "m = data['totalRatings'].quantile(0.50)\n",
    "print(m)\n",
    "\n",
    "# Step 2: Calculate C, the mean rating across all games\n",
    "C = data['ratings'].mean()\n",
    "\n",
    "# Apply the weighted rating formula\n",
    "data['weighted_rating'] = (data['totalRatings'] / (data['totalRatings'] + m) * data['ratings']) + (m / (data['totalRatings'] + m) * C)\n",
    "\n",
    "# Display the first few rows to verify the calculation\n",
    "data[['name', 'ratings', 'totalRatings', 'weighted_rating']]\n",
    "sorted  = data.sort_values(by=['totalRatings'], ascending=False)\n",
    "sorted[sorted['totalRatings']> 36]\n",
    "\n"
   ],
   "metadata": {
    "collapsed": false
   }
  },
  {
   "cell_type": "code",
   "execution_count": 4,
   "outputs": [
    {
     "name": "stderr",
     "output_type": "stream",
     "text": [
      "C:\\Users\\3ezoy\\AppData\\Local\\Programs\\Python\\Python310\\lib\\site-packages\\scipy\\__init__.py:169: UserWarning: A NumPy version >=1.18.5 and <1.26.0 is required for this version of SciPy (detected version 1.26.3\n",
      "  warnings.warn(f\"A NumPy version >={np_minversion} and <{np_maxversion}\"\n"
     ]
    }
   ],
   "source": [
    "from sklearn.cluster import KMeans\n",
    "import matplotlib.pyplot as plt"
   ],
   "metadata": {
    "collapsed": false
   }
  },
  {
   "cell_type": "code",
   "execution_count": 5,
   "outputs": [
    {
     "data": {
      "text/plain": "KMeans(n_clusters=3)",
      "text/html": "<style>#sk-container-id-1 {color: black;background-color: white;}#sk-container-id-1 pre{padding: 0;}#sk-container-id-1 div.sk-toggleable {background-color: white;}#sk-container-id-1 label.sk-toggleable__label {cursor: pointer;display: block;width: 100%;margin-bottom: 0;padding: 0.3em;box-sizing: border-box;text-align: center;}#sk-container-id-1 label.sk-toggleable__label-arrow:before {content: \"▸\";float: left;margin-right: 0.25em;color: #696969;}#sk-container-id-1 label.sk-toggleable__label-arrow:hover:before {color: black;}#sk-container-id-1 div.sk-estimator:hover label.sk-toggleable__label-arrow:before {color: black;}#sk-container-id-1 div.sk-toggleable__content {max-height: 0;max-width: 0;overflow: hidden;text-align: left;background-color: #f0f8ff;}#sk-container-id-1 div.sk-toggleable__content pre {margin: 0.2em;color: black;border-radius: 0.25em;background-color: #f0f8ff;}#sk-container-id-1 input.sk-toggleable__control:checked~div.sk-toggleable__content {max-height: 200px;max-width: 100%;overflow: auto;}#sk-container-id-1 input.sk-toggleable__control:checked~label.sk-toggleable__label-arrow:before {content: \"▾\";}#sk-container-id-1 div.sk-estimator input.sk-toggleable__control:checked~label.sk-toggleable__label {background-color: #d4ebff;}#sk-container-id-1 div.sk-label input.sk-toggleable__control:checked~label.sk-toggleable__label {background-color: #d4ebff;}#sk-container-id-1 input.sk-hidden--visually {border: 0;clip: rect(1px 1px 1px 1px);clip: rect(1px, 1px, 1px, 1px);height: 1px;margin: -1px;overflow: hidden;padding: 0;position: absolute;width: 1px;}#sk-container-id-1 div.sk-estimator {font-family: monospace;background-color: #f0f8ff;border: 1px dotted black;border-radius: 0.25em;box-sizing: border-box;margin-bottom: 0.5em;}#sk-container-id-1 div.sk-estimator:hover {background-color: #d4ebff;}#sk-container-id-1 div.sk-parallel-item::after {content: \"\";width: 100%;border-bottom: 1px solid gray;flex-grow: 1;}#sk-container-id-1 div.sk-label:hover label.sk-toggleable__label {background-color: #d4ebff;}#sk-container-id-1 div.sk-serial::before {content: \"\";position: absolute;border-left: 1px solid gray;box-sizing: border-box;top: 0;bottom: 0;left: 50%;z-index: 0;}#sk-container-id-1 div.sk-serial {display: flex;flex-direction: column;align-items: center;background-color: white;padding-right: 0.2em;padding-left: 0.2em;position: relative;}#sk-container-id-1 div.sk-item {position: relative;z-index: 1;}#sk-container-id-1 div.sk-parallel {display: flex;align-items: stretch;justify-content: center;background-color: white;position: relative;}#sk-container-id-1 div.sk-item::before, #sk-container-id-1 div.sk-parallel-item::before {content: \"\";position: absolute;border-left: 1px solid gray;box-sizing: border-box;top: 0;bottom: 0;left: 50%;z-index: -1;}#sk-container-id-1 div.sk-parallel-item {display: flex;flex-direction: column;z-index: 1;position: relative;background-color: white;}#sk-container-id-1 div.sk-parallel-item:first-child::after {align-self: flex-end;width: 50%;}#sk-container-id-1 div.sk-parallel-item:last-child::after {align-self: flex-start;width: 50%;}#sk-container-id-1 div.sk-parallel-item:only-child::after {width: 0;}#sk-container-id-1 div.sk-dashed-wrapped {border: 1px dashed gray;margin: 0 0.4em 0.5em 0.4em;box-sizing: border-box;padding-bottom: 0.4em;background-color: white;}#sk-container-id-1 div.sk-label label {font-family: monospace;font-weight: bold;display: inline-block;line-height: 1.2em;}#sk-container-id-1 div.sk-label-container {text-align: center;}#sk-container-id-1 div.sk-container {/* jupyter's `normalize.less` sets `[hidden] { display: none; }` but bootstrap.min.css set `[hidden] { display: none !important; }` so we also need the `!important` here to be able to override the default hidden behavior on the sphinx rendered scikit-learn.org. See: https://github.com/scikit-learn/scikit-learn/issues/21755 */display: inline-block !important;position: relative;}#sk-container-id-1 div.sk-text-repr-fallback {display: none;}</style><div id=\"sk-container-id-1\" class=\"sk-top-container\"><div class=\"sk-text-repr-fallback\"><pre>KMeans(n_clusters=3)</pre><b>In a Jupyter environment, please rerun this cell to show the HTML representation or trust the notebook. <br />On GitHub, the HTML representation is unable to render, please try loading this page with nbviewer.org.</b></div><div class=\"sk-container\" hidden><div class=\"sk-item\"><div class=\"sk-estimator sk-toggleable\"><input class=\"sk-toggleable__control sk-hidden--visually\" id=\"sk-estimator-id-1\" type=\"checkbox\" checked><label for=\"sk-estimator-id-1\" class=\"sk-toggleable__label sk-toggleable__label-arrow\">KMeans</label><div class=\"sk-toggleable__content\"><pre>KMeans(n_clusters=3)</pre></div></div></div></div></div>"
     },
     "execution_count": 5,
     "metadata": {},
     "output_type": "execute_result"
    }
   ],
   "source": [
    "# Isolating the 'weighted_rating' column for K-means\n",
    "X = sorted[['weighted_rating']]\n",
    "\n",
    "# Using the elbow method to find the optimal number of clusters\n",
    "kmeans = KMeans(n_clusters=3)\n",
    "kmeans.fit(X)\n",
    "\n"
   ],
   "metadata": {
    "collapsed": false
   }
  },
  {
   "cell_type": "code",
   "execution_count": 6,
   "outputs": [],
   "source": [
    "sorted['lables']= kmeans.labels_\n"
   ],
   "metadata": {
    "collapsed": false
   }
  },
  {
   "cell_type": "code",
   "execution_count": 22,
   "outputs": [
    {
     "name": "stdout",
     "output_type": "stream",
     "text": [
      "15\n"
     ]
    }
   ],
   "source": [
    "publishers  =  sorted[\"publishers\"]\n",
    "publisher_dict = []\n",
    "for line in publishers:\n",
    "\n",
    "    line  = str(line)\n",
    "    names  = line.find(\";\")\n",
    "    splits = line.split(\";\")\n",
    "\n",
    "    if names == -1:\n",
    "\n",
    "        publisher_dict.append(line)\n",
    "    else:\n",
    "        for name in splits:\n",
    "\n",
    "            publisher_dict.append(name)\n",
    "\n",
    "\n",
    "dictionary = {}\n",
    "ls = []\n",
    "counter = 0;\n",
    "\n",
    "for publisher in publisher_dict:\n",
    "    ls.append((publisher,1))\n",
    "\n",
    "counts = Counter(key for key, value in ls)\n",
    "len(counts)\n",
    "print(counts[\"Rockstar Games\"])\n",
    "\n",
    "\n",
    "\n",
    "\n"
   ],
   "metadata": {
    "collapsed": false
   }
  },
  {
   "cell_type": "code",
   "execution_count": null,
   "outputs": [],
   "source": [],
   "metadata": {
    "collapsed": false
   }
  }
 ],
 "metadata": {
  "kernelspec": {
   "display_name": "Python 3",
   "language": "python",
   "name": "python3"
  },
  "language_info": {
   "codemirror_mode": {
    "name": "ipython",
    "version": 2
   },
   "file_extension": ".py",
   "mimetype": "text/x-python",
   "name": "python",
   "nbconvert_exporter": "python",
   "pygments_lexer": "ipython2",
   "version": "2.7.6"
  }
 },
 "nbformat": 4,
 "nbformat_minor": 0
}
